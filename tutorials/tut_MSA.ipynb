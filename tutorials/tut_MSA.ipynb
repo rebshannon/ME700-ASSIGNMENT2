{
 "cells": [
  {
   "attachments": {},
   "cell_type": "markdown",
   "metadata": {},
   "source": [
    "Use matrix structural analysis to find the nodal displacements and reaction forces for the following system.\n",
    "\n",
    "\n",
    "The material properties are defined as"
   ]
  },
  {
   "cell_type": "code",
   "execution_count": 2,
   "metadata": {},
   "outputs": [
    {
     "name": "stdout",
     "output_type": "stream",
     "text": [
      "Displacements\n",
      "[[-1.47313913e-02]\n",
      " [-1.84142391e+00]\n",
      " [-0.00000000e+00]\n",
      " [-0.00000000e+00]\n",
      " [ 0.00000000e+00]\n",
      " [ 1.10485435e-03]]\n",
      "Forces\n",
      "[[-3.53553391e+00]\n",
      " [-1.76776695e+01]\n",
      " [ 0.00000000e+00]\n",
      " [ 0.00000000e+00]\n",
      " [ 0.00000000e+00]\n",
      " [ 5.30330086e+04]]\n"
     ]
    }
   ],
   "source": [
    "# IMPORT \n",
    "# import the required libraries and classes \n",
    "\n",
    "import numpy as np\n",
    "import math\n",
    "import matrixStructAnalysis as MSA\n",
    "from matrixStructAnalysis import Nodes\n",
    "from matrixStructAnalysis import Elements\n",
    "\n",
    "# DEFINE GEOMETRY\n",
    "# define the geometry of the problem\n",
    "\n",
    "# each row is a node defined in (x, y, z) coordinates\n",
    "# nodes = np.array([[0, 1, 0],\n",
    "#                   [1, 1, 0],\n",
    "#                   [1,0,0]])\n",
    "\n",
    "# # the load applied at each node as (Fx, Fy, Fz, Mx, My, Mz)\n",
    "# load = np.array([[0,0,0,0,0,0],\n",
    "#                  [0,-1,0,0,0,1],\n",
    "#                  [0,0,0,0,0,0]])\n",
    "\n",
    "# # the type of boundary condition\n",
    "#     # 0 = free node\n",
    "#     # 1 = fixed node\n",
    "#     # 2 = pinned node\n",
    "# nodeType = np.array([1,0,2])\n",
    "\n",
    "# # which nodes are connected to form elements\n",
    "# # each row is a new elements with end points (node0, node1)\n",
    "# connections = np.array([[0, 1],\n",
    "#                         [1,2]])\n",
    "\n",
    "# # material properties\n",
    "# # enter the material properties for each element\n",
    "# # the index corresponds to the element index\n",
    "\n",
    "# E = np.array([200, 200])       # Young's modulus \n",
    "# nu = np.array([0.3, 0.3])      # Poisson's ratio \n",
    "# A = np.array([6e3, 6e3])       # Cross-sectional area \n",
    "# Iz = np.array([200e6, 200e6])      # Moment of inertia about z-axis \n",
    "# Iy = np.array([200e6, 200e6])      # Moment of inertia about y-axis \n",
    "# Ip = np.array([10, 10])      # Polar moment of inertia\n",
    "# J = np.array([300e3, 300e3])       # Torsional constant\n",
    "\n",
    "nodes = np.array([[8e3, 0, 0],[13e3, 0, 0]])\n",
    "load = np.array([[0,0,0,0,0,0],[5/math.sqrt(2),-5/math.sqrt(2),0,0,0,0]])\n",
    "nodeType = np.array([1,0])\n",
    "\n",
    "connections = np.array([[0, 1]])\n",
    "\n",
    "E = np.array([200])\n",
    "nu = np.array([0.3])\n",
    "A = np.array([6e3])\n",
    "Iz = np.array([200e6])\n",
    "Iy = np.array([200e6])\n",
    "Ip = np.array([10])\n",
    "J = np.array([300e3])\n",
    "\n",
    "# DEFINE CLASSES\n",
    "Nodes = Nodes(nodes=nodes,load=load,nodeType=nodeType)\n",
    "Elements = Elements(connections,E,nu,A,Iz,Iy,Ip,J)\n",
    "\n",
    "# RUN THE SOLVER\n",
    "displacement, forces = MSA.run_MSA_solver(Nodes,Elements)\n",
    "\n",
    "print(\"Displacements\")\n",
    "print(displacement)\n",
    "print(\"Forces\")\n",
    "print(forces)\n",
    "\n"
   ]
  }
 ],
 "metadata": {
  "kernelspec": {
   "display_name": "A2-matrix_struct_analysis",
   "language": "python",
   "name": "python3"
  },
  "language_info": {
   "codemirror_mode": {
    "name": "ipython",
    "version": 3
   },
   "file_extension": ".py",
   "mimetype": "text/x-python",
   "name": "python",
   "nbconvert_exporter": "python",
   "pygments_lexer": "ipython3",
   "version": "3.12.9"
  },
  "orig_nbformat": 4
 },
 "nbformat": 4,
 "nbformat_minor": 2
}
