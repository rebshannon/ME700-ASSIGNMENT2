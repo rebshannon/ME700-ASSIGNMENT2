{
 "cells": [
  {
   "attachments": {},
   "cell_type": "markdown",
   "metadata": {},
   "source": [
    "Use matrix structural analysis to find the nodal displacements and reaction forces for the following system.\n",
    "\n",
    "\n",
    "The material properties are defined as"
   ]
  },
  {
   "cell_type": "code",
   "execution_count": null,
   "metadata": {
    "vscode": {
     "languageId": "plaintext"
    }
   },
   "outputs": [],
   "source": [
    "# IMPORT \n",
    "# import the required libraries and classes \n",
    "\n",
    "import numpy as np\n",
    "import src.matrixStructAnalysis as MSA\n",
    "from matrixStructAnalysis import Nodes\n",
    "from matrixStructuralAnalysis import Elements\n",
    "\n",
    "# DEFINE GEOMETRY\n",
    "# define the geometry of the problem\n",
    "\n",
    "# each row is a node defined in (x, y, z) coordinates\n",
    "nodes = np.array([[0, 1, 0],\n",
    "                  [1, 1, 0],\n",
    "                  [1,0,0]])\n",
    "\n",
    "# the load applied at each node as (Fx, Fy, Fz, Mx, My, Mz)\n",
    "load = np.array([[0,0,0,0,0,0],\n",
    "                 [0,-1,0,0,0,1],\n",
    "                 [0,0,0,0,0,0]])\n",
    "\n",
    "# the type of boundary condition\n",
    "    # 0 = free node\n",
    "    # 1 = fixed node\n",
    "    # 2 = pinned node\n",
    "nodeType = np.array([1,0,2])\n",
    "\n",
    "# which nodes are connected to form elements\n",
    "# each row is a new elements with end points (node0, node1)\n",
    "connections = np.array([[0, 1],\n",
    "                        [1,2]])\n",
    "\n",
    "# material properties\n",
    "# enter the material properties for each element\n",
    "# the index corresponds to the element index\n",
    "\n",
    "E = np.array([10, 10])       # Young's modulus (Pa)\n",
    "nu = np.array([10, 10])      # Poisson's ratio ()\n",
    "A = np.array([10, 10])       # Cross-sectional area (m^2)\n",
    "Iz = np.array([10, 10])      # Moment of inertia about z-axis (m^4)\n",
    "Iy = np.array([10, 10])      # Moment of inertia about y-axis (m^4)\n",
    "Ip = np.array([10, 10])      # Polar moment of inertia\n",
    "J = np.array([10, 10])       # Torsional constant\n",
    "\n",
    "# DEFINE CLASSES\n",
    "Nodes = Nodes(nodes=nodes,load=load,nodeType=nodeType)\n",
    "Elements = Elements(connections,E,nu,A,Iz,Iy,Ip,J)\n",
    "\n",
    "# RUN THE SOLVER\n",
    "displacement, forces = MSA.run_MSA_solver(Nodes,Elements)\n",
    "\n",
    "print(\"Displacements\")\n",
    "print(displacement)\n",
    "print(\"Forces\")\n",
    "print(forces)\n",
    "\n"
   ]
  }
 ],
 "metadata": {
  "language_info": {
   "name": "python"
  },
  "orig_nbformat": 4
 },
 "nbformat": 4,
 "nbformat_minor": 2
}
